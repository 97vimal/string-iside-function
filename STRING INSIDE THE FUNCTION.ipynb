{
 "cells": [
  {
   "cell_type": "markdown",
   "id": "1b2fa3ef",
   "metadata": {},
   "source": [
    "# reversing string fn"
   ]
  },
  {
   "cell_type": "code",
   "execution_count": 2,
   "id": "2938cb2e",
   "metadata": {},
   "outputs": [
    {
     "name": "stdout",
     "output_type": "stream",
     "text": [
      "enter string:1234abcd\n",
      "dcba4321"
     ]
    }
   ],
   "source": [
    "a = input(\"enter string:\")\n",
    "for i in range((len(a)-1),-1,-1):\n",
    "    print(a[i],end=\"\")"
   ]
  },
  {
   "cell_type": "code",
   "execution_count": null,
   "id": "89232b5d",
   "metadata": {},
   "outputs": [],
   "source": []
  },
  {
   "cell_type": "code",
   "execution_count": 3,
   "id": "867a2d34",
   "metadata": {},
   "outputs": [
    {
     "name": "stdout",
     "output_type": "stream",
     "text": [
      "Enter any string of your choice :- 1234abcd\n",
      "The reverse string :- dcba4321\n"
     ]
    }
   ],
   "source": [
    "def reverse_of_string(string):\n",
    "    reverse_string = \"\".join(reversed(string))          # using reversed function with join() for string\n",
    "    return (reverse_string)\n",
    "string = input(\"Enter any string of your choice :- \")     # taking an input from user \n",
    "str = reverse_of_string(string)\n",
    "print(f\"The reverse string :- {str}\")  "
   ]
  },
  {
   "cell_type": "code",
   "execution_count": null,
   "id": "7702109a",
   "metadata": {},
   "outputs": [],
   "source": []
  },
  {
   "cell_type": "code",
   "execution_count": null,
   "id": "47a5e4fe",
   "metadata": {},
   "outputs": [],
   "source": []
  },
  {
   "cell_type": "code",
   "execution_count": null,
   "id": "52e5914a",
   "metadata": {},
   "outputs": [],
   "source": []
  }
 ],
 "metadata": {
  "kernelspec": {
   "display_name": "Python 3 (ipykernel)",
   "language": "python",
   "name": "python3"
  },
  "language_info": {
   "codemirror_mode": {
    "name": "ipython",
    "version": 3
   },
   "file_extension": ".py",
   "mimetype": "text/x-python",
   "name": "python",
   "nbconvert_exporter": "python",
   "pygments_lexer": "ipython3",
   "version": "3.9.7"
  }
 },
 "nbformat": 4,
 "nbformat_minor": 5
}
